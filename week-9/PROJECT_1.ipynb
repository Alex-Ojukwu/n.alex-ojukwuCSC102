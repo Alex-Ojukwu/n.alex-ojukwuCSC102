{
 "cells": [
  {
   "cell_type": "code",
   "execution_count": 3,
   "id": "134f5ce7",
   "metadata": {},
   "outputs": [
    {
     "name": "stdout",
     "output_type": "stream",
     "text": [
      "enter employee name:mary\n",
      "enter division (retail, global, or commercial): retail\n",
      "mary works in retail Banking division and Renders the following services:\n",
      "['lines of credit', 'Investment management and accounts', 'Insurance', 'Retirements and eduation accounts', 'loans and morgages', 'checking and savings']\n"
     ]
    }
   ],
   "source": [
    " class zenith:\n",
    "        \n",
    "        def  unique_services(self):\n",
    "            pass\n",
    "        \n",
    "        def  mutual_services(self):\n",
    "            pass\n",
    "        \n",
    "class  RetailBanking(zenith):\n",
    "    def  unique_services(self):\n",
    "        return  [\"lines of credit\",\"Investment management and accounts\",\"Insurance\",\n",
    "                 \"Retirements and eduation accounts\",\"loans and morgages\",\"checking and savings\"]\n",
    "    \n",
    "class GlobalBanking(zenith):\n",
    "    def  unique_services(self):\n",
    "        return  [\"Multi-currency management services and products\",\"Foreign currency accounts\",\n",
    "                 \"Foreign currency credit cards\",\"Transborder advisory services\",\"Liquidity management\"]\n",
    "class CommercialBanking(zenith):\n",
    "    def unique_services(self):\n",
    "        return [\"Lines of credit\",\"Investment management and accounts\",\"Insurance\",\"Advisory services\"]\n",
    "    \n",
    "def main():\n",
    "    name = input(\"enter employee name:\")\n",
    "    division = input(\"enter division (retail, global, or commercial): \")\n",
    "    \n",
    "    if division.lower() ==   \"retail\":\n",
    "        employee  = RetailBanking()\n",
    "    elif division.lower()  == \"global\":\n",
    "        employee = GlobalBanking()\n",
    "    elif division.lower() ==  \"commercial\":\n",
    "        employee  = CommercialBanking()\n",
    "    else:\n",
    "        print(\"invalid division\")\n",
    "        return\n",
    "    if name.lower() == \"mary\" :\n",
    "        services  = employee.unique_services()\n",
    "    else:\n",
    "        services = employee.mutual_services()\n",
    "    print(f\"{name} works in {division} Banking division and Renders the following services:\\n{services}\")\n",
    "    \n",
    "if __name__==  \"__main__\":\n",
    "    main()  "
   ]
  },
  {
   "cell_type": "code",
   "execution_count": null,
   "id": "01d7caab",
   "metadata": {},
   "outputs": [],
   "source": []
  }
 ],
 "metadata": {
  "kernelspec": {
   "display_name": "Python 3 (ipykernel)",
   "language": "python",
   "name": "python3"
  },
  "language_info": {
   "codemirror_mode": {
    "name": "ipython",
    "version": 3
   },
   "file_extension": ".py",
   "mimetype": "text/x-python",
   "name": "python",
   "nbconvert_exporter": "python",
   "pygments_lexer": "ipython3",
   "version": "3.10.9"
  }
 },
 "nbformat": 4,
 "nbformat_minor": 5
}
