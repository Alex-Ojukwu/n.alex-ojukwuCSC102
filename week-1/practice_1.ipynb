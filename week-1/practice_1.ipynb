{
 "cells": [
  {
   "cell_type": "code",
   "execution_count": 1,
   "id": "45042bee",
   "metadata": {},
   "outputs": [
    {
     "name": "stdout",
     "output_type": "stream",
     "text": [
      "100\n",
      "data type of variable num is <class 'int'>\n",
      "34.45\n",
      "data type of variable fnum is <class 'float'>\n",
      "(3+4j)\n",
      "data type of variable cnum is <class 'complex'>\n"
     ]
    }
   ],
   "source": [
    "num = 100\n",
    "print(num)\n",
    "print(\"data type of variable num is\", type(num))\n",
    "\n",
    "fnum = 34.45\n",
    "print(fnum)\n",
    "print(\"data type of variable fnum is\" , type(fnum))\n",
    "\n",
    "cnum = 3 + 4j\n",
    "print(cnum)\n",
    "print(\"data type of variable cnum is\", type(cnum))"
   ]
  },
  {
   "cell_type": "code",
   "execution_count": 2,
   "id": "ea1af553",
   "metadata": {},
   "outputs": [
    {
     "name": "stdout",
     "output_type": "stream",
     "text": [
      "hi my name is matthew. i am string\n",
      "<class 'str'>\n",
      "hi my name is precious. i am string\n",
      "<class 'str'>\n"
     ]
    }
   ],
   "source": [
    "str1 = \"hi my name is matthew. i am string\"\n",
    "str2 = \"hi my name is precious. i am string\"\n",
    "\n",
    "print(str1)\n",
    "print(type(str1))\n",
    "\n",
    "print(str2)\n",
    "print(type(str2))"
   ]
  },
  {
   "cell_type": "code",
   "execution_count": null,
   "id": "3af06271",
   "metadata": {},
   "outputs": [],
   "source": []
  }
 ],
 "metadata": {
  "kernelspec": {
   "display_name": "Python 3 (ipykernel)",
   "language": "python",
   "name": "python3"
  },
  "language_info": {
   "codemirror_mode": {
    "name": "ipython",
    "version": 3
   },
   "file_extension": ".py",
   "mimetype": "text/x-python",
   "name": "python",
   "nbconvert_exporter": "python",
   "pygments_lexer": "ipython3",
   "version": "3.10.9"
  }
 },
 "nbformat": 4,
 "nbformat_minor": 5
}
