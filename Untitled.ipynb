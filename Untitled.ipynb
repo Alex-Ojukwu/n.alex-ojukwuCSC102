{
 "cells": [
  {
   "cell_type": "code",
   "execution_count": 3,
   "id": "8fbc2777",
   "metadata": {},
   "outputs": [
    {
     "name": "stdout",
     "output_type": "stream",
     "text": [
      "[100, 'dogo']\n"
     ]
    }
   ],
   "source": [
    "list =  [ \"anaconda\", 100,\"dogo\",2.33]\n",
    "print (list[1:3])"
   ]
  },
  {
   "cell_type": "code",
   "execution_count": 4,
   "id": "bdc82c15",
   "metadata": {},
   "outputs": [
    {
     "name": "stdout",
     "output_type": "stream",
     "text": [
      "ikeja\n"
     ]
    }
   ],
   "source": [
    "tuple = (\"ekiti\", 700, \"ikeja\", 2.33)\n",
    "print    (tuple[-2])"
   ]
  },
  {
   "cell_type": "code",
   "execution_count": 5,
   "id": "1ebdc73d",
   "metadata": {},
   "outputs": [
    {
     "name": "stdout",
     "output_type": "stream",
     "text": [
      "2.33\n"
     ]
    }
   ],
   "source": [
    "tuple = (\"ekiti\", 700, \"ikeja\", 2.33)\n",
    "print (tuple[-1])"
   ]
  },
  {
   "cell_type": "code",
   "execution_count": 6,
   "id": "4914c55f",
   "metadata": {},
   "outputs": [
    {
     "name": "stdout",
     "output_type": "stream",
     "text": [
      "3\n",
      "run\n",
      "4\n"
     ]
    }
   ],
   "source": [
    "tuple =(\"a\",23, \"m\", 3, 4, \"run\")\n",
    "print (tuple[-3])\n",
    "print (tuple[-1])\n",
    "print (tuple[-2])"
   ]
  }
 ],
 "metadata": {
  "kernelspec": {
   "display_name": "Python 3 (ipykernel)",
   "language": "python",
   "name": "python3"
  },
  "language_info": {
   "codemirror_mode": {
    "name": "ipython",
    "version": 3
   },
   "file_extension": ".py",
   "mimetype": "text/x-python",
   "name": "python",
   "nbconvert_exporter": "python",
   "pygments_lexer": "ipython3",
   "version": "3.10.9"
  }
 },
 "nbformat": 4,
 "nbformat_minor": 5
}
