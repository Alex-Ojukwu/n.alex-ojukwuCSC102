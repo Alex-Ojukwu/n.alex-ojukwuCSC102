{
 "cells": [
  {
   "cell_type": "code",
   "execution_count": 12,
   "id": "9d0d66c0",
   "metadata": {},
   "outputs": [
    {
     "ename": "SyntaxError",
     "evalue": "invalid syntax (2960525275.py, line 51)",
     "output_type": "error",
     "traceback": [
      "\u001b[1;36m  Cell \u001b[1;32mIn[12], line 51\u001b[1;36m\u001b[0m\n\u001b[1;33m    elif user_input == 2:\u001b[0m\n\u001b[1;37m    ^\u001b[0m\n\u001b[1;31mSyntaxError\u001b[0m\u001b[1;31m:\u001b[0m invalid syntax\n"
     ]
    }
   ],
   "source": [
    "class calculator():\n",
    "    def trampezium(self,height,base1,base2):\n",
    "        self.height = height\n",
    "        self.base1 =  base1\n",
    "        self.base2 = base2\n",
    "        \n",
    "        ans =  self.height/2 * (self.base1  + self.base2)\n",
    "        print(\"area of triangle is\",ans)\n",
    "    \n",
    "    def rhombus(self,diagonal1,diagonal2):\n",
    "        self.diagonal1 = diagonal1\n",
    "        self.diagonal2 = diagonal2\n",
    "        \n",
    "        ans = 0.5 * diagonal1 * diagonal2\n",
    "        print(\"area of rhombus\",ans)\n",
    "        \n",
    "    def parallelogram(self,base,altitude):\n",
    "        self.base = base\n",
    "        self.altitude = altitude\n",
    "        \n",
    "        ans = base *  altitude\n",
    "        print(\"area of rhombus\",ans)\n",
    "        \n",
    "    def cube(self,length):\n",
    "        self.length = length\n",
    "        \n",
    "        ans = 6*(length)*2\n",
    "        print(\"area of cube\",  ans)\n",
    "        \n",
    "    def cylinder(self,radius,height):\n",
    "        self.radius = radius\n",
    "        self.height = height\n",
    "        \n",
    "        ans = 3.14 * radius * 2 * height\n",
    "        print(\"volume of cylinder\", ans )\n",
    "        \n",
    "    \n",
    "    user_input = int(input(\"enter a number 1-5\"))\n",
    "\n",
    "    obj  = calculator()\n",
    "    obj.trampezium(height,base1,base2)\n",
    "        \n",
    "    if user_input ==  1:\n",
    "        base1 = int(input(\"enter a value for base1\"))\n",
    "        base2 = int(input(\"enter value for base2\"))\n",
    "        height =  int(input(\"enter value for height\"))\n",
    "        \n",
    "    obj  = calculator()\n",
    "    obj.rhombus(diagonal1,diagonal2)\n",
    "    \n",
    "    elif user_input == 2:\n",
    "      diagonal1 = int(input(\"enter value for diagonal1\"))\n",
    "      diagonal2 = int(input(\"enter value for diagonal2\"))\n",
    "    \n",
    "    obj = calculator():\n",
    "    obj.parallelogram(base, altitude)\n",
    "       \n",
    "    elif user_input == 3:\n",
    "       base = int(input(\"enter value for base\"))\n",
    "        altitude = int(input(\"enter value for base\"))\n",
    "        \n",
    "    obj = calculator()\n",
    "    obj.cube(length)\n",
    "    \n",
    "    elif user_input == 4:\n",
    "      length= int(input(\"enter value of length\"))\n",
    "        \n",
    "    obj= calculator()\n",
    "    obj.cylinder(radius,height)\n",
    "        \n",
    "    elif user_input == 5:\n",
    "    radius = int(input(\"enter value of radius\"))\n",
    "    height = int(input(\"enter value of height\"))\n",
    "    \n",
    "    else\n",
    "    print(\"the number is not valid\")"
   ]
  },
  {
   "cell_type": "code",
   "execution_count": null,
   "id": "d2dfea03",
   "metadata": {},
   "outputs": [],
   "source": []
  }
 ],
 "metadata": {
  "kernelspec": {
   "display_name": "Python 3 (ipykernel)",
   "language": "python",
   "name": "python3"
  },
  "language_info": {
   "codemirror_mode": {
    "name": "ipython",
    "version": 3
   },
   "file_extension": ".py",
   "mimetype": "text/x-python",
   "name": "python",
   "nbconvert_exporter": "python",
   "pygments_lexer": "ipython3",
   "version": "3.10.9"
  }
 },
 "nbformat": 4,
 "nbformat_minor": 5
}
