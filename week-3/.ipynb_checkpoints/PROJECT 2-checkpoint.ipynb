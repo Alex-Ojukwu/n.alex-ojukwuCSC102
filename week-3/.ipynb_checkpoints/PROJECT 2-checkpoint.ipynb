{
 "cells": [
  {
   "cell_type": "code",
   "execution_count": 8,
   "id": "7091f3d3",
   "metadata": {},
   "outputs": [
    {
     "name": "stdout",
     "output_type": "stream",
     "text": [
      "enter value a1\n",
      "enter value b5\n",
      "enter value c6\n"
     ]
    },
    {
     "ename": "TypeError",
     "evalue": "unsupported operand type(s) for ^: 'float' and 'float'",
     "output_type": "error",
     "traceback": [
      "\u001b[1;31m---------------------------------------------------------------------------\u001b[0m",
      "\u001b[1;31mTypeError\u001b[0m                                 Traceback (most recent call last)",
      "Cell \u001b[1;32mIn[8], line 4\u001b[0m\n\u001b[0;32m      2\u001b[0m B \u001b[38;5;241m=\u001b[39m \u001b[38;5;28mfloat\u001b[39m(\u001b[38;5;28minput\u001b[39m(\u001b[38;5;124m\"\u001b[39m\u001b[38;5;124menter value b\u001b[39m\u001b[38;5;124m\"\u001b[39m))\n\u001b[0;32m      3\u001b[0m c \u001b[38;5;241m=\u001b[39m \u001b[38;5;28mfloat\u001b[39m(\u001b[38;5;28minput\u001b[39m(\u001b[38;5;124m\"\u001b[39m\u001b[38;5;124menter value c\u001b[39m\u001b[38;5;124m\"\u001b[39m))\n\u001b[1;32m----> 4\u001b[0m x \u001b[38;5;241m=\u001b[39m (\u001b[38;5;241m-\u001b[39mB\u001b[38;5;241m+\u001b[39m( ((\u001b[43mB\u001b[49m\u001b[38;5;241;43m^\u001b[39;49m\u001b[38;5;241;43m2.0\u001b[39;49m)\u001b[38;5;241m-\u001b[39m\u001b[38;5;241m4.0\u001b[39m\u001b[38;5;241m*\u001b[39mA\u001b[38;5;241m*\u001b[39mC)\u001b[38;5;241m^\u001b[39m(\u001b[38;5;241m1\u001b[39m\u001b[38;5;241m/\u001b[39m\u001b[38;5;241m2\u001b[39m))\u001b[38;5;241m/\u001b[39m\u001b[38;5;241m2.0\u001b[39m\u001b[38;5;241m*\u001b[39mA), \n\u001b[0;32m      5\u001b[0m y \u001b[38;5;241m=\u001b[39m (\u001b[38;5;241m-\u001b[39mB\u001b[38;5;241m-\u001b[39m( ((B\u001b[38;5;241m^\u001b[39m\u001b[38;5;241m2.0\u001b[39m)\u001b[38;5;241m-\u001b[39m\u001b[38;5;241m4.0\u001b[39m\u001b[38;5;241m*\u001b[39mA\u001b[38;5;241m*\u001b[39mC)\u001b[38;5;241m^\u001b[39m(\u001b[38;5;241m1\u001b[39m\u001b[38;5;241m/\u001b[39m\u001b[38;5;241m2\u001b[39m))\u001b[38;5;241m/\u001b[39m\u001b[38;5;241m2.0\u001b[39m\u001b[38;5;241m*\u001b[39mA)\n\u001b[0;32m      6\u001b[0m \u001b[38;5;28mprint\u001b[39m(x,y)\n",
      "\u001b[1;31mTypeError\u001b[0m: unsupported operand type(s) for ^: 'float' and 'float'"
     ]
    }
   ],
   "source": [
    "A = float(input(\"enter value \"))\n",
    "B = float(input(\"enter value \"))\n",
    "c = float(input(\"enter value \"))\n",
    "x = (-B+( ((B**2.0)-4.0*A*C)^(1/2))/2.0*A), \n",
    "y = (-B-( ((B**2.0)-4.0*A*C)^(1/2))/2.0*A)\n",
    "print(x,y)                                          "
   ]
  },
  {
   "cell_type": "code",
   "execution_count": null,
   "id": "cdb8f7e5",
   "metadata": {},
   "outputs": [],
   "source": []
  }
 ],
 "metadata": {
  "kernelspec": {
   "display_name": "Python 3 (ipykernel)",
   "language": "python",
   "name": "python3"
  },
  "language_info": {
   "codemirror_mode": {
    "name": "ipython",
    "version": 3
   },
   "file_extension": ".py",
   "mimetype": "text/x-python",
   "name": "python",
   "nbconvert_exporter": "python",
   "pygments_lexer": "ipython3",
   "version": "3.10.9"
  }
 },
 "nbformat": 4,
 "nbformat_minor": 5
}
