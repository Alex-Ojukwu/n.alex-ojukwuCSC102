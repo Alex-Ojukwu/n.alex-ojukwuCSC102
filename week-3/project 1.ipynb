{
 "cells": [
  {
   "cell_type": "code",
   "execution_count": 1,
   "id": "0c609d12",
   "metadata": {},
   "outputs": [
    {
     "name": "stdout",
     "output_type": "stream",
     "text": [
      "enter value1\n",
      "enter value2\n",
      "enter value3\n",
      "enter value4\n"
     ]
    },
    {
     "ename": "NameError",
     "evalue": "name 'np' is not defined",
     "output_type": "error",
     "traceback": [
      "\u001b[1;31m---------------------------------------------------------------------------\u001b[0m",
      "\u001b[1;31mNameError\u001b[0m                                 Traceback (most recent call last)",
      "Cell \u001b[1;32mIn[1], line 6\u001b[0m\n\u001b[0;32m      4\u001b[0m d \u001b[38;5;241m=\u001b[39m  \u001b[38;5;28mfloat\u001b[39m(\u001b[38;5;28minput\u001b[39m(\u001b[38;5;124m\"\u001b[39m\u001b[38;5;124menter value\u001b[39m\u001b[38;5;124m\"\u001b[39m))\n\u001b[0;32m      5\u001b[0m coeff \u001b[38;5;241m=\u001b[39m [a,b,c,d]\n\u001b[1;32m----> 6\u001b[0m roots \u001b[38;5;241m=\u001b[39m \u001b[43mnp\u001b[49m\u001b[38;5;241m.\u001b[39mroots(coeff)\n\u001b[0;32m      7\u001b[0m \u001b[38;5;28mprint\u001b[39m (\u001b[38;5;124m\"\u001b[39m\u001b[38;5;124mthe roots of cubic are\u001b[39m\u001b[38;5;124m\"\u001b[39m,roots)\n",
      "\u001b[1;31mNameError\u001b[0m: name 'np' is not defined"
     ]
    }
   ],
   "source": [
    "a = float(input(\"enter value\"))\n",
    "b = float(input(\"enter value\"))\n",
    "c =  float(input(\"enter value\"))\n",
    "d =  float(input(\"enter value\"))\n",
    "coeff = [a,b,c,d]\n",
    "roots = np.roots(coeff)\n",
    "print (\"the roots of cubic are\",roots)"
   ]
  },
  {
   "cell_type": "code",
   "execution_count": 1,
   "id": "bf55b02f",
   "metadata": {},
   "outputs": [
    {
     "name": "stdout",
     "output_type": "stream",
     "text": [
      "Enter the name of person 1: alex\n",
      "Enter the age of person 1: ojukwu\n"
     ]
    },
    {
     "ename": "ValueError",
     "evalue": "invalid literal for int() with base 10: 'ojukwu'",
     "output_type": "error",
     "traceback": [
      "\u001b[1;31m---------------------------------------------------------------------------\u001b[0m",
      "\u001b[1;31mValueError\u001b[0m                                Traceback (most recent call last)",
      "Cell \u001b[1;32mIn[1], line 2\u001b[0m\n\u001b[0;32m      1\u001b[0m name1 \u001b[38;5;241m=\u001b[39m \u001b[38;5;28minput\u001b[39m(\u001b[38;5;124m\"\u001b[39m\u001b[38;5;124mEnter the name of person 1: \u001b[39m\u001b[38;5;124m\"\u001b[39m)\n\u001b[1;32m----> 2\u001b[0m age1 \u001b[38;5;241m=\u001b[39m \u001b[38;5;28;43mint\u001b[39;49m\u001b[43m(\u001b[49m\u001b[38;5;28;43minput\u001b[39;49m\u001b[43m(\u001b[49m\u001b[38;5;124;43m\"\u001b[39;49m\u001b[38;5;124;43mEnter the age of person 1: \u001b[39;49m\u001b[38;5;124;43m\"\u001b[39;49m\u001b[43m)\u001b[49m\u001b[43m)\u001b[49m\n\u001b[0;32m      3\u001b[0m name2 \u001b[38;5;241m=\u001b[39m \u001b[38;5;28minput\u001b[39m(\u001b[38;5;124m\"\u001b[39m\u001b[38;5;124mEnter the name of person 2: \u001b[39m\u001b[38;5;124m\"\u001b[39m)\n\u001b[0;32m      4\u001b[0m age2 \u001b[38;5;241m=\u001b[39m \u001b[38;5;28mint\u001b[39m(\u001b[38;5;28minput\u001b[39m(\u001b[38;5;124m\"\u001b[39m\u001b[38;5;124mEnter the age of person 2: \u001b[39m\u001b[38;5;124m\"\u001b[39m))\n",
      "\u001b[1;31mValueError\u001b[0m: invalid literal for int() with base 10: 'ojukwu'"
     ]
    }
   ],
   "source": [
    "name1 = input(\"Enter the name of person 1: \")\n",
    "age1 = int(input(\"Enter the age of person 1: \"))\n",
    "name2 = input(\"Enter the name of person 2: \")\n",
    "age2 = int(input(\"Enter the age of person 2: \"))\n",
    "\n",
    "# swapping the ages of the two persons\n",
    "temp = age1\n",
    "age1 = age2\n",
    "age2 = temp\n",
    "\n",
    "print(f\"After swapping, {name1} is {age2} years old, and {name2} is {age1} years old.\")"
   ]
  },
  {
   "cell_type": "code",
   "execution_count": null,
   "id": "4917f076",
   "metadata": {},
   "outputs": [],
   "source": []
  }
 ],
 "metadata": {
  "kernelspec": {
   "display_name": "Python 3 (ipykernel)",
   "language": "python",
   "name": "python3"
  },
  "language_info": {
   "codemirror_mode": {
    "name": "ipython",
    "version": 3
   },
   "file_extension": ".py",
   "mimetype": "text/x-python",
   "name": "python",
   "nbconvert_exporter": "python",
   "pygments_lexer": "ipython3",
   "version": "3.10.9"
  }
 },
 "nbformat": 4,
 "nbformat_minor": 5
}
