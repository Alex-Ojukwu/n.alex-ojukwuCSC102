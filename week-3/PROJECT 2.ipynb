{
 "cells": [
  {
   "cell_type": "code",
   "execution_count": 14,
   "id": "fdb57691",
   "metadata": {},
   "outputs": [
    {
     "name": "stdout",
     "output_type": "stream",
     "text": [
      "enter value 1\n",
      "enter value 5\n",
      "enter value 6\n",
      "(-4.5,)\n",
      "-5.5\n"
     ]
    }
   ],
   "source": [
    "A = float(input(\"enter value \"))\n",
    "B = float(input(\"enter value \"))\n",
    "C = float(input(\"enter value \"))\n",
    "x = (-B+ ( ((B**2.0)-4.0*A*C))**(0.5)/2.0*A), \n",
    "y = (-B- ( ((B**2.0)-4.0*A*C))**(0.5)/2.0*A)\n",
    "print(x)\n",
    "print (y)\n"
   ]
  },
  {
   "cell_type": "code",
   "execution_count": null,
   "id": "d5703dce",
   "metadata": {},
   "outputs": [],
   "source": []
  }
 ],
 "metadata": {
  "kernelspec": {
   "display_name": "Python 3 (ipykernel)",
   "language": "python",
   "name": "python3"
  },
  "language_info": {
   "codemirror_mode": {
    "name": "ipython",
    "version": 3
   },
   "file_extension": ".py",
   "mimetype": "text/x-python",
   "name": "python",
   "nbconvert_exporter": "python",
   "pygments_lexer": "ipython3",
   "version": "3.10.9"
  }
 },
 "nbformat": 4,
 "nbformat_minor": 5
}
