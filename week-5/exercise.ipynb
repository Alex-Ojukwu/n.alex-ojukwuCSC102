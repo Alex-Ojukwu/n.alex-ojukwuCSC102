{
 "cells": [
  {
   "cell_type": "code",
   "execution_count": 1,
   "id": "ce9be8e8",
   "metadata": {},
   "outputs": [
    {
     "name": "stdout",
     "output_type": "stream",
     "text": [
      "enter name of city 1: lagos\n",
      "enter name of city 2: ikeja\n",
      "the name of city 1 after swapping is ikeja\n",
      "the name of city 2 after swapping is lagos\n"
     ]
    }
   ],
   "source": [
    "city_1 = input('enter name of city 1: ')\n",
    "city_2 = input('enter name of city 2: ')\n",
    "\n",
    "#create a temporary variable and swap the cities\n",
    "temp  = city_1\n",
    "city_1 =  city_2\n",
    "city_2 = temp\n",
    "\n",
    "print(f\"the name of city 1 after swapping is {city_1}\")\n",
    "print(f\"the name of city 2 after swapping is {city_2}\")"
   ]
  },
  {
   "cell_type": "code",
   "execution_count": 5,
   "id": "2b2ba4b6",
   "metadata": {},
   "outputs": [
    {
     "name": "stdout",
     "output_type": "stream",
     "text": [
      "enter a number: -1\n",
      "negative number\n"
     ]
    }
   ],
   "source": [
    "num = float(input(\"enter a number: \"))\n",
    "if num > 0:\n",
    "    print(\"positive number\")\n",
    "elif num == 0:\n",
    "            print(\"Zero\")\n",
    "else:\n",
    "                print(\"negative number\")"
   ]
  },
  {
   "cell_type": "code",
   "execution_count": 6,
   "id": "6a7eabe5",
   "metadata": {},
   "outputs": [
    {
     "name": "stdout",
     "output_type": "stream",
     "text": [
      "welcome to the coupe de escriva 2023: football picks \n",
      "\n",
      "madiba:  chubby obiora-okafo\n",
      "Blue-  jays: Christopher Uweh\n",
      "cirok: alexander\n",
      "tsg walkers: ikechukwu\n",
      "\n",
      "\n",
      "Madiba: chubby obiora-okafo\n",
      "blue-jays: oladimeji  abaniwonda/jeffery awagu\n",
      "cirok: timileyin pearse/izuako jeremy\n",
      "tsg walkers: ayomide ojituku\n"
     ]
    }
   ],
   "source": [
    "print  (\"welcome to the coupe de escriva 2023: football picks \\n\")\n",
    "\n",
    "captain =  {'madiba: ':'chubby obiora-okafo', 'Blue-  jays:': 'Christopher Uweh',\n",
    "           'cirok:':'alexander', 'tsg walkers:':'ikechukwu'}\n",
    "goalkeepers =  {'Madiba:': 'chubby obiora-okafo',\n",
    "               'blue-jays:': 'oladimeji  abaniwonda/jeffery awagu',\n",
    "                'cirok:': 'timileyin pearse/izuako jeremy',\n",
    "                'tsg walkers:':'ayomide ojituku'}\n",
    "for pick  in captain:\n",
    "    print(pick,captain[pick])\n",
    "    \n",
    "print(\"\\n\")\n",
    "\n",
    "for pick in goalkeepers:\n",
    "    print(pick,goalkeepers[pick])"
   ]
  },
  {
   "cell_type": "code",
   "execution_count": null,
   "id": "43687206",
   "metadata": {},
   "outputs": [],
   "source": []
  }
 ],
 "metadata": {
  "kernelspec": {
   "display_name": "Python 3 (ipykernel)",
   "language": "python",
   "name": "python3"
  },
  "language_info": {
   "codemirror_mode": {
    "name": "ipython",
    "version": 3
   },
   "file_extension": ".py",
   "mimetype": "text/x-python",
   "name": "python",
   "nbconvert_exporter": "python",
   "pygments_lexer": "ipython3",
   "version": "3.10.9"
  }
 },
 "nbformat": 4,
 "nbformat_minor": 5
}
