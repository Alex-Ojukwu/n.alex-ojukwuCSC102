{
 "cells": [
  {
   "cell_type": "code",
   "execution_count": 15,
   "id": "786da6da",
   "metadata": {},
   "outputs": [
    {
     "name": "stdout",
     "output_type": "stream",
     "text": [
      "f_name | f_age | f_height | f_score\n",
      "samantha | 17 | 5.5 | 80\n",
      "jada | 16 | 6.0 | 85\n",
      "jadyn | 17 | 5.4 | 70\n",
      "naza | 18 | 5.9 | 60\n",
      "nazo | 16 | 5.6 | 76\n",
      "pearl | 18 | 5.5 | 66\n",
      "lonimi | 17 | 6.1 | 87\n",
      "feranmi | 20 | 6.0 | 95\n",
      "maureen | 19 | 5.7 | 50\n",
      "jordan | 17 | 5.5 | 49\n"
     ]
    }
   ],
   "source": [
    "f_name = ['samantha','jada','jadyn','naza','nazo','pearl','lonimi','feranmi','maureen','jordan']\n",
    "f_age =['17','16','17','18','16','18','17','20','19','17']\n",
    "f_height =['5.5','6.0','5.4','5.9','5.6','5.5','6.1','6.0','5.7','5.5']\n",
    "f_score = ['80','85','70','60','76','66','87','95','50','49']\n",
    "\n",
    "print(\"f_name | f_age | f_height | f_score\")\n",
    "for i in range(len(female_age)):\n",
    "        print(f_name[i],\"|\",f_age[i],\"|\",f_height[i],\"|\",f_score[i] )\n"
   ]
  },
  {
   "cell_type": "code",
   "execution_count": null,
   "id": "75f4c980",
   "metadata": {},
   "outputs": [],
   "source": []
  }
 ],
 "metadata": {
  "kernelspec": {
   "display_name": "Python 3 (ipykernel)",
   "language": "python",
   "name": "python3"
  },
  "language_info": {
   "codemirror_mode": {
    "name": "ipython",
    "version": 3
   },
   "file_extension": ".py",
   "mimetype": "text/x-python",
   "name": "python",
   "nbconvert_exporter": "python",
   "pygments_lexer": "ipython3",
   "version": "3.10.9"
  }
 },
 "nbformat": 4,
 "nbformat_minor": 5
}
